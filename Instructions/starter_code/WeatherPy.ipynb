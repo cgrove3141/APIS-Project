{
 "cells": [
  {
   "cell_type": "markdown",
   "metadata": {},
   "source": [
    "# WeatherPy\n",
    "----\n",
    "\n",
    "#### Note\n",
    "* Instructions have been included for each segment. You do not have to follow them exactly, but they are included to help you think through the steps."
   ]
  },
  {
   "cell_type": "code",
   "execution_count": 1,
   "metadata": {
    "scrolled": true
   },
   "outputs": [
    {
     "data": {
      "text/plain": [
       "'4709ddb213b606d4a434549208c4d7cb'"
      ]
     },
     "execution_count": 1,
     "metadata": {},
     "output_type": "execute_result"
    }
   ],
   "source": [
    "# Dependencies and Setup\n",
    "import matplotlib.pyplot as plt\n",
    "import pandas as pd\n",
    "import numpy as np\n",
    "import requests\n",
    "import time\n",
    "from scipy.stats import linregress\n",
    "\n",
    "# Import API key\n",
    "from api_keys import weather_api_key\n",
    "\n",
    "weather_api_key = \"4709ddb213b606d4a434549208c4d7cb\"\n",
    "\n",
    "# Incorporated citipy to determine city based on latitude and longitude\n",
    "from citipy import citipy\n",
    "\n",
    "# Output File (CSV)\n",
    "output_data_file = \"output_data/cities.csv\"\n",
    "\n",
    "# Range of latitudes and longitudes\n",
    "lat_range = (-90, 90)\n",
    "lng_range = (-180, 180)\n",
    "\n",
    "weather_api_key"
   ]
  },
  {
   "cell_type": "markdown",
   "metadata": {},
   "source": [
    "## Generate Cities List"
   ]
  },
  {
   "cell_type": "code",
   "execution_count": 2,
   "metadata": {},
   "outputs": [
    {
     "data": {
      "text/plain": [
       "621"
      ]
     },
     "execution_count": 2,
     "metadata": {},
     "output_type": "execute_result"
    }
   ],
   "source": [
    "# List for holding lat_lngs and cities\n",
    "lat_lngs = []\n",
    "cities = []\n",
    "\n",
    "# Create a set of random lat and lng combinations\n",
    "lats = np.random.uniform(lat_range[0], lat_range[1], size=1500)\n",
    "lngs = np.random.uniform(lng_range[0], lng_range[1], size=1500)\n",
    "lat_lngs = zip(lats, lngs)\n",
    "\n",
    "# Identify nearest city for each lat, lng combination\n",
    "for lat_lng in lat_lngs:\n",
    "    city = citipy.nearest_city(lat_lng[0], lat_lng[1]).city_name\n",
    "    \n",
    "    # If the city is unique, then add it to a our cities list\n",
    "    if city not in cities:\n",
    "        cities.append(city)\n",
    "\n",
    "# Print the city count to confirm sufficient count\n",
    "len(cities)\n"
   ]
  },
  {
   "cell_type": "markdown",
   "metadata": {},
   "source": [
    "### Perform API Calls\n",
    "* Perform a weather check on each city using a series of successive API calls.\n",
    "* Include a print log of each city as it'sbeing processed (with the city number and city name).\n"
   ]
  },
  {
   "cell_type": "code",
   "execution_count": 3,
   "metadata": {
    "scrolled": true
   },
   "outputs": [
    {
     "data": {
      "text/plain": [
       "{'coord': {'lon': 18.42, 'lat': -33.93},\n",
       " 'weather': [{'id': 800,\n",
       "   'main': 'Clear',\n",
       "   'description': 'clear sky',\n",
       "   'icon': '01d'}],\n",
       " 'base': 'stations',\n",
       " 'main': {'temp': 296.19,\n",
       "  'feels_like': 289.56,\n",
       "  'temp_min': 294.82,\n",
       "  'temp_max': 297.15,\n",
       "  'pressure': 1014,\n",
       "  'humidity': 57},\n",
       " 'visibility': 10000,\n",
       " 'wind': {'speed': 11.3, 'deg': 180},\n",
       " 'clouds': {'all': 0},\n",
       " 'dt': 1608214165,\n",
       " 'sys': {'type': 1,\n",
       "  'id': 1899,\n",
       "  'country': 'ZA',\n",
       "  'sunrise': 1608175827,\n",
       "  'sunset': 1608227687},\n",
       " 'timezone': 7200,\n",
       " 'id': 3369157,\n",
       " 'name': 'Cape Town',\n",
       " 'cod': 200}"
      ]
     },
     "execution_count": 3,
     "metadata": {},
     "output_type": "execute_result"
    }
   ],
   "source": [
    "city= 'cape town'\n",
    "url = 'http://api.openweathermap.org/data/2.5/weather?'\n",
    "query_url = f\"{url}q={city}&appid={weather_api_key}\"\n",
    "\n",
    "response = requests.get(query_url).json()\n",
    "response"
   ]
  },
  {
   "cell_type": "code",
   "execution_count": 4,
   "metadata": {},
   "outputs": [
    {
     "name": "stdout",
     "output_type": "stream",
     "text": [
      "Processing Records for ust-tsilma\n",
      "Processing Records for bilma\n",
      "Processing Records for abu dhabi\n",
      "Processing Records for beidao\n",
      "Processing Records for tibati\n",
      "Processing Records for san cristobal\n",
      "Processing Records for lagoa\n",
      "Processing Records for kodiak\n",
      "Processing Records for shieli\n",
      "Processing Records for itaberai\n",
      "Processing Records for hobart\n",
      "Processing Records for naze\n",
      "Missing key for this city\n",
      "Processing Records for dikson\n",
      "Processing Records for busselton\n",
      "Processing Records for tuatapere\n",
      "Processing Records for vaini\n",
      "Processing Records for boyolangu\n",
      "Processing Records for farmington\n",
      "Processing Records for bara\n",
      "Processing Records for hithadhoo\n",
      "Processing Records for avarua\n",
      "Missing key for this city\n",
      "Processing Records for atuona\n",
      "Processing Records for liberal\n",
      "Processing Records for lao cai\n",
      "Processing Records for namikupa\n",
      "Missing key for this city\n",
      "Processing Records for punta arenas\n",
      "Processing Records for torbay\n",
      "Processing Records for kiama\n",
      "Processing Records for longyearbyen\n",
      "Processing Records for upernavik\n",
      "Processing Records for raudeberg\n",
      "Processing Records for rikitea\n",
      "Processing Records for tuburan\n",
      "Missing key for this city\n",
      "Processing Records for pittsburg\n",
      "Processing Records for hilo\n",
      "Processing Records for atar\n",
      "Processing Records for ushuaia\n",
      "Processing Records for pauini\n",
      "Processing Records for qaanaaq\n",
      "Processing Records for yellowknife\n",
      "Processing Records for mehamn\n",
      "Processing Records for rincon\n",
      "Processing Records for kodinsk\n",
      "Processing Records for port alfred\n",
      "Processing Records for bonavista\n",
      "Processing Records for funadhoo\n",
      "Processing Records for kapaa\n",
      "Processing Records for neftcala\n",
      "Processing Records for bluff\n",
      "Processing Records for alofi\n",
      "Processing Records for khatanga\n",
      "Processing Records for mar del plata\n",
      "Missing key for this city\n",
      "Processing Records for georgetown\n",
      "Processing Records for lebu\n",
      "Processing Records for lorengau\n",
      "Processing Records for san andres\n",
      "Processing Records for rocha\n",
      "Processing Records for tiksi\n",
      "Processing Records for mumford\n",
      "Processing Records for new norfolk\n",
      "Processing Records for seydi\n",
      "Processing Records for balao\n",
      "Processing Records for mitsamiouli\n",
      "Processing Records for vostok\n",
      "Processing Records for dubrovnik\n",
      "Processing Records for hermanus\n",
      "Processing Records for thompson\n",
      "Missing key for this city\n",
      "Processing Records for mbini\n",
      "Processing Records for northam\n",
      "Processing Records for chuy\n",
      "Missing key for this city\n",
      "Processing Records for yulara\n",
      "Processing Records for wilkie\n",
      "Processing Records for preobrazheniye\n",
      "Processing Records for jamestown\n",
      "Processing Records for naryan-mar\n",
      "Processing Records for puerto ayora\n",
      "Processing Records for port elizabeth\n",
      "Processing Records for nikolskoye\n",
      "Processing Records for umm lajj\n",
      "Processing Records for touros\n",
      "Processing Records for beisfjord\n",
      "Processing Records for hamilton\n",
      "Processing Records for polyarnyy\n",
      "Processing Records for kincardine\n",
      "Processing Records for broken hill\n",
      "Processing Records for rivera\n",
      "Processing Records for isabela\n",
      "Processing Records for cape town\n",
      "Processing Records for cabo san lucas\n",
      "Processing Records for butaritari\n",
      "Processing Records for west odessa\n",
      "Processing Records for mahebourg\n",
      "Processing Records for norden\n",
      "Processing Records for arraial do cabo\n",
      "Processing Records for dinard\n",
      "Processing Records for ribeira grande\n",
      "Processing Records for marsh harbour\n",
      "Processing Records for outlook\n",
      "Processing Records for kruisfontein\n",
      "Processing Records for hirara\n",
      "Processing Records for fukue\n",
      "Processing Records for hambantota\n",
      "Processing Records for krasnoselkup\n",
      "Processing Records for albany\n",
      "Processing Records for solnechnyy\n",
      "Processing Records for severo-kurilsk\n",
      "Processing Records for chokurdakh\n",
      "Missing key for this city\n",
      "Processing Records for alice springs\n",
      "Missing key for this city\n",
      "Processing Records for naantali\n",
      "Processing Records for zaza del medio\n",
      "Missing key for this city\n",
      "Processing Records for airai\n",
      "Processing Records for aklavik\n",
      "Processing Records for norman wells\n",
      "Processing Records for saskylakh\n",
      "Processing Records for teguldet\n",
      "Processing Records for muroto\n",
      "Processing Records for kavieng\n",
      "Processing Records for hasaki\n",
      "Processing Records for anadyr\n",
      "Processing Records for yerbogachen\n",
      "Processing Records for west bay\n",
      "Processing Records for jinchang\n",
      "Processing Records for goure\n",
      "Processing Records for san luis\n",
      "Processing Records for hovd\n",
      "Missing key for this city\n",
      "Processing Records for bambous virieux\n",
      "Processing Records for saint-philippe\n",
      "Processing Records for dunedin\n",
      "Processing Records for tabou\n",
      "Processing Records for ust-nera\n",
      "Processing Records for provideniya\n",
      "Processing Records for kaitangata\n",
      "Processing Records for kudahuvadhoo\n",
      "Processing Records for mataura\n",
      "Processing Records for inhambane\n",
      "Processing Records for cherskiy\n",
      "Processing Records for kalakamati\n",
      "Processing Records for meulaboh\n",
      "Processing Records for aranos\n",
      "Processing Records for ambon\n",
      "Processing Records for maxixe\n",
      "Missing key for this city\n",
      "Processing Records for te anau\n",
      "Processing Records for grand gaube\n",
      "Processing Records for pisco\n",
      "Processing Records for comodoro rivadavia\n",
      "Missing key for this city\n",
      "Processing Records for general roca\n",
      "Processing Records for vestmannaeyjar\n",
      "Processing Records for buraydah\n",
      "Processing Records for lianzhou\n",
      "Processing Records for kungurtug\n",
      "Processing Records for la tuque\n",
      "Processing Records for saint george\n",
      "Processing Records for yumen\n",
      "Processing Records for talcahuano\n",
      "Processing Records for sao filipe\n",
      "Processing Records for keflavik\n",
      "Processing Records for scarborough\n",
      "Processing Records for san patricio\n",
      "Processing Records for lakhtar\n",
      "Processing Records for bol\n",
      "Processing Records for vanimo\n",
      "Processing Records for faanui\n",
      "Processing Records for flinders\n",
      "Processing Records for barrow\n",
      "Missing key for this city\n",
      "Processing Records for yatou\n",
      "Processing Records for souillac\n",
      "Missing key for this city\n",
      "Missing key for this city\n",
      "Processing Records for lata\n",
      "Processing Records for sai buri\n",
      "Processing Records for lumeje\n",
      "Processing Records for bethel\n",
      "Processing Records for robertsport\n",
      "Processing Records for kerouane\n",
      "Processing Records for bac lieu\n",
      "Processing Records for sinnamary\n",
      "Processing Records for namie\n",
      "Processing Records for kailua\n",
      "Processing Records for juybar\n",
      "Processing Records for bathsheba\n",
      "Processing Records for petatlan\n",
      "Processing Records for hofn\n",
      "Missing key for this city\n",
      "Processing Records for galle\n",
      "Processing Records for nalut\n",
      "Processing Records for leh\n",
      "Processing Records for esperance\n",
      "Processing Records for bend\n",
      "Missing key for this city\n",
      "Processing Records for port-gentil\n",
      "Processing Records for verkhnevilyuysk\n",
      "Processing Records for quelimane\n",
      "Processing Records for chapais\n",
      "Processing Records for margate\n",
      "Processing Records for san-pedro\n",
      "Processing Records for ostrovnoy\n",
      "Missing key for this city\n",
      "Processing Records for weihai\n",
      "Processing Records for kahului\n",
      "Processing Records for pevek\n",
      "Processing Records for acajutla\n",
      "Processing Records for birin\n",
      "Processing Records for cidreira\n",
      "Processing Records for chiojdu\n",
      "Processing Records for bursa\n",
      "Processing Records for nanortalik\n",
      "Processing Records for sitka\n",
      "Processing Records for vilyuysk\n",
      "Processing Records for guerrero negro\n",
      "Processing Records for dalvik\n",
      "Processing Records for siguiri\n",
      "Processing Records for koulamoutou\n",
      "Processing Records for ancud\n",
      "Missing key for this city\n",
      "Processing Records for wageningen\n",
      "Processing Records for puerto leguizamo\n",
      "Processing Records for pandan\n",
      "Processing Records for najran\n",
      "Processing Records for carnarvon\n",
      "Processing Records for saint anthony\n",
      "Processing Records for yar-sale\n",
      "Processing Records for ilulissat\n",
      "Processing Records for sorland\n",
      "Processing Records for etampes\n",
      "Processing Records for saint-joseph\n",
      "Processing Records for isangel\n",
      "Processing Records for flin flon\n",
      "Processing Records for benidorm\n",
      "Processing Records for luderitz\n",
      "Processing Records for bredasdorp\n",
      "Processing Records for kathu\n",
      "Processing Records for soyo\n",
      "Processing Records for maniitsoq\n",
      "Processing Records for castro\n",
      "Processing Records for ossora\n",
      "Processing Records for constitucion\n",
      "Processing Records for outram\n",
      "Processing Records for ler\n",
      "Processing Records for greenfield\n",
      "Processing Records for ewa beach\n",
      "Processing Records for kamaishi\n",
      "Processing Records for tasiilaq\n",
      "Processing Records for osmena\n",
      "Processing Records for henties bay\n",
      "Processing Records for porto novo\n",
      "Processing Records for show low\n",
      "Processing Records for victoria\n"
     ]
    },
    {
     "name": "stdout",
     "output_type": "stream",
     "text": [
      "Processing Records for colares\n",
      "Processing Records for port hardy\n",
      "Processing Records for torrijos\n",
      "Processing Records for zwedru\n",
      "Processing Records for east london\n",
      "Processing Records for talnakh\n",
      "Processing Records for howard springs\n",
      "Processing Records for vardo\n",
      "Processing Records for san ignacio\n",
      "Processing Records for bukama\n",
      "Processing Records for narsaq\n",
      "Processing Records for nybro\n",
      "Processing Records for zhigansk\n",
      "Missing key for this city\n",
      "Processing Records for vlad tepes\n",
      "Processing Records for junagarh\n",
      "Processing Records for itoman\n",
      "Processing Records for sisophon\n",
      "Processing Records for pervomayskiy\n",
      "Processing Records for astana\n",
      "Processing Records for tuktoyaktuk\n",
      "Processing Records for nemuro\n",
      "Processing Records for ati\n",
      "Processing Records for rawson\n",
      "Missing key for this city\n",
      "Missing key for this city\n",
      "Processing Records for alto araguaia\n",
      "Processing Records for kununurra\n",
      "Processing Records for vila velha\n",
      "Processing Records for roebourne\n",
      "Processing Records for kamina\n",
      "Missing key for this city\n",
      "Processing Records for seguin\n",
      "Processing Records for tawau\n",
      "Processing Records for ponta do sol\n",
      "Processing Records for coihaique\n",
      "Processing Records for escanaba\n",
      "Processing Records for qaqortoq\n",
      "Processing Records for bengkulu\n",
      "Processing Records for tilichiki\n",
      "Processing Records for padang\n",
      "Processing Records for portland\n",
      "Processing Records for fort-shevchenko\n",
      "Processing Records for codrington\n",
      "Processing Records for challans\n",
      "Processing Records for hobyo\n",
      "Processing Records for belaya gora\n",
      "Processing Records for pangnirtung\n",
      "Missing key for this city\n",
      "Processing Records for gao\n",
      "Processing Records for huzhou\n",
      "Processing Records for pombas\n",
      "Processing Records for nacala\n",
      "Missing key for this city\n",
      "Missing key for this city\n",
      "Processing Records for bulgan\n",
      "Processing Records for shache\n",
      "Processing Records for derzhavinsk\n",
      "Processing Records for hauterive\n",
      "Processing Records for aberdeen\n",
      "Processing Records for brownsville\n",
      "Processing Records for matata\n",
      "Processing Records for karratha\n",
      "Processing Records for farah\n",
      "Processing Records for roma\n",
      "Processing Records for kloulklubed\n",
      "Processing Records for iqaluit\n",
      "Processing Records for luganville\n",
      "Processing Records for clyde river\n",
      "Missing key for this city\n",
      "Processing Records for svetlaya\n",
      "Processing Records for inverell\n",
      "Missing key for this city\n",
      "Processing Records for nuuk\n",
      "Processing Records for pangody\n",
      "Processing Records for sobolevo\n",
      "Processing Records for celestun\n",
      "Processing Records for tiznit\n",
      "Missing key for this city\n",
      "Processing Records for excelsior springs\n",
      "Processing Records for mogadishu\n",
      "Processing Records for mayo\n",
      "Missing key for this city\n",
      "Processing Records for hayden\n",
      "Processing Records for san quintin\n",
      "Processing Records for fallon\n",
      "Processing Records for vakhrushev\n",
      "Processing Records for balkanabat\n",
      "Processing Records for green river\n",
      "Processing Records for banjar\n",
      "Processing Records for dicabisagan\n",
      "Processing Records for zlobin\n",
      "Missing key for this city\n",
      "Processing Records for taylorville\n",
      "Processing Records for grindavik\n",
      "Processing Records for binghamton\n",
      "Processing Records for idrinskoye\n",
      "Processing Records for namatanai\n",
      "Processing Records for faya\n",
      "Processing Records for boundiali\n",
      "Processing Records for pascagoula\n",
      "Processing Records for bhag\n",
      "Processing Records for yamada\n",
      "Processing Records for saint-marc\n",
      "Processing Records for nurlat\n",
      "Processing Records for abbeville\n",
      "Processing Records for zhuanghe\n",
      "Processing Records for sabya\n",
      "Processing Records for tiarei\n",
      "Processing Records for fairbanks\n",
      "Processing Records for kilindoni\n",
      "Processing Records for inuvik\n",
      "Missing key for this city\n",
      "Missing key for this city\n",
      "Processing Records for quatre cocos\n",
      "Processing Records for lompoc\n",
      "Processing Records for usevya\n",
      "Processing Records for seoul\n",
      "Processing Records for mongomo\n",
      "Processing Records for nhulunbuy\n",
      "Processing Records for mahasamund\n",
      "Processing Records for kavaratti\n",
      "Processing Records for sosva\n",
      "Processing Records for biltine\n",
      "Processing Records for dhadar\n",
      "Processing Records for vila franca do campo\n",
      "Processing Records for ixtapa\n",
      "Processing Records for czarnkow\n",
      "Processing Records for palmer\n",
      "Missing key for this city\n",
      "Missing key for this city\n",
      "Processing Records for nizhniy odes\n",
      "Processing Records for tarko-sale\n",
      "Processing Records for sur\n",
      "Processing Records for copiapo\n",
      "Processing Records for rubio\n",
      "Processing Records for kobe\n",
      "Processing Records for darhan\n",
      "Processing Records for same\n",
      "Processing Records for adrar\n",
      "Processing Records for pochutla\n",
      "Missing key for this city\n",
      "Processing Records for marathon\n",
      "Processing Records for deputatskiy\n",
      "Processing Records for sao miguel do araguaia\n",
      "Processing Records for marienburg\n",
      "Processing Records for reconquista\n",
      "Processing Records for caranavi\n",
      "Processing Records for haines junction\n",
      "Processing Records for paraiso\n",
      "Missing key for this city\n",
      "Processing Records for senneterre\n",
      "Processing Records for cabra\n",
      "Processing Records for mecca\n",
      "Processing Records for vanavara\n",
      "Processing Records for huallanca\n",
      "Processing Records for cayenne\n",
      "Processing Records for along\n",
      "Processing Records for smithers\n",
      "Processing Records for murindo\n",
      "Processing Records for ormara\n",
      "Processing Records for berlevag\n",
      "Processing Records for ayni\n",
      "Processing Records for bemidji\n",
      "Processing Records for okhotsk\n",
      "Processing Records for namyslow\n",
      "Processing Records for san jose\n",
      "Processing Records for sibolga\n",
      "Missing key for this city\n",
      "Processing Records for vila do maio\n",
      "Processing Records for vieste\n",
      "Missing key for this city\n",
      "Processing Records for talas\n",
      "Processing Records for korla\n",
      "Processing Records for puerto el triunfo\n",
      "Processing Records for noumea\n",
      "Processing Records for seybaplaya\n",
      "Processing Records for poum\n",
      "Processing Records for tlacotalpan\n",
      "Processing Records for havre-saint-pierre\n",
      "Processing Records for makarov\n",
      "Processing Records for veraval\n",
      "Processing Records for sumkino\n",
      "Processing Records for boa vista\n",
      "Processing Records for baruun-urt\n",
      "Processing Records for coquimbo\n",
      "Processing Records for bambanglipuro\n",
      "Processing Records for tabora\n",
      "Processing Records for atambua\n",
      "Processing Records for gazanjyk\n",
      "Processing Records for mazyr\n",
      "Processing Records for kastamonu\n",
      "Processing Records for daru\n",
      "Missing key for this city\n",
      "Processing Records for vyartsilya\n",
      "Processing Records for batagay\n",
      "Processing Records for dinajpur\n",
      "Processing Records for asyut\n",
      "Processing Records for muros\n",
      "Processing Records for geraldton\n",
      "Processing Records for altay\n",
      "Processing Records for tarakan\n",
      "Processing Records for dharchula\n",
      "Processing Records for sao joao da barra\n",
      "Processing Records for dingle\n",
      "Processing Records for college\n",
      "Processing Records for port lincoln\n",
      "Processing Records for port macquarie\n",
      "Processing Records for yermakovskoye\n",
      "Processing Records for ninghai\n",
      "Processing Records for abong mbang\n",
      "Processing Records for praia\n",
      "Processing Records for banamba\n",
      "Processing Records for bucerias\n",
      "Processing Records for tvoroyri\n",
      "Processing Records for north fort myers\n",
      "Processing Records for gibraleon\n",
      "Processing Records for itaituba\n",
      "Processing Records for mani\n",
      "Processing Records for matara\n",
      "Processing Records for port blair\n",
      "Processing Records for nara\n",
      "Processing Records for bairiki\n",
      "Processing Records for imbituba\n",
      "Processing Records for votkinsk\n",
      "Processing Records for moerai\n",
      "Processing Records for ocampo\n",
      "Processing Records for robstown\n",
      "Processing Records for alegrete\n",
      "Processing Records for juneau\n",
      "Processing Records for manokwari\n",
      "Processing Records for fortuna\n",
      "Missing key for this city\n",
      "Processing Records for ust-kuyga\n",
      "Processing Records for beringovskiy\n",
      "Processing Records for scottsbluff\n",
      "Processing Records for harindanga\n",
      "Processing Records for hervey bay\n",
      "Processing Records for kousseri\n",
      "Processing Records for caraquet\n",
      "Processing Records for eyrarbakki\n",
      "Processing Records for konevo\n",
      "Processing Records for pouebo\n",
      "Processing Records for north platte\n",
      "Processing Records for viedma\n",
      "Missing key for this city\n",
      "Missing key for this city\n",
      "Processing Records for emerald\n",
      "Processing Records for koumac\n",
      "Processing Records for honiara\n",
      "Processing Records for aasiaat\n",
      "Processing Records for lavrentiya\n",
      "Processing Records for tahara\n",
      "Processing Records for andrews\n",
      "Processing Records for murmashi\n",
      "Processing Records for plaridel\n",
      "Processing Records for ginda\n",
      "Processing Records for klaksvik\n",
      "Processing Records for toppenish\n",
      "Processing Records for baoding\n"
     ]
    },
    {
     "name": "stdout",
     "output_type": "stream",
     "text": [
      "Processing Records for solano\n",
      "Processing Records for mount gambier\n",
      "Processing Records for chenghai\n",
      "Processing Records for egvekinot\n",
      "Processing Records for gat\n",
      "Processing Records for hay river\n",
      "Processing Records for ruidoso\n",
      "Processing Records for arlit\n",
      "Processing Records for santa cruz de la palma\n",
      "Processing Records for andenes\n",
      "Processing Records for thunder bay\n",
      "Processing Records for iaciara\n",
      "Processing Records for labuhan\n",
      "Processing Records for kangasala\n",
      "Processing Records for pinega\n",
      "Processing Records for pueblo\n",
      "Processing Records for antofagasta\n",
      "Processing Records for lagos\n",
      "Processing Records for husavik\n",
      "Processing Records for kutum\n",
      "Processing Records for paamiut\n",
      "Processing Records for launceston\n",
      "Processing Records for kismayo\n",
      "Processing Records for manicore\n",
      "Processing Records for paracatu\n",
      "Processing Records for tambopata\n",
      "Processing Records for okato\n",
      "Processing Records for vyazemskiy\n",
      "Processing Records for marzuq\n",
      "Processing Records for dabat\n",
      "Missing key for this city\n",
      "Processing Records for yakeshi\n",
      "Processing Records for katsuura\n",
      "Processing Records for roald\n",
      "Processing Records for katobu\n",
      "Processing Records for olafsvik\n",
      "Processing Records for ingham\n",
      "Processing Records for puerto carreno\n",
      "Processing Records for barra do corda\n",
      "Processing Records for cortez\n",
      "Processing Records for horadiz\n",
      "Processing Records for tromso\n",
      "Processing Records for marovoay\n",
      "Processing Records for batemans bay\n",
      "Processing Records for maralal\n",
      "Processing Records for broome\n",
      "Processing Records for kobelyaky\n",
      "Processing Records for kilimatinde\n",
      "Processing Records for fengcheng\n",
      "Processing Records for khuzhir\n",
      "Processing Records for turka\n",
      "Processing Records for havoysund\n",
      "Processing Records for russell\n",
      "Missing key for this city\n",
      "Processing Records for raha\n",
      "Processing Records for guiren\n",
      "Processing Records for esil\n",
      "Processing Records for carira\n",
      "Processing Records for catamarca\n",
      "Processing Records for den helder\n",
      "Missing key for this city\n",
      "Processing Records for la rioja\n",
      "Processing Records for george\n",
      "Processing Records for rundu\n",
      "Processing Records for charters towers\n",
      "Missing key for this city\n",
      "Processing Records for belmonte\n",
      "Processing Records for zinacantan\n",
      "Processing Records for mount isa\n",
      "Processing Records for marsa matruh\n",
      "Processing Records for carballo\n",
      "Processing Records for bull savanna\n",
      "Missing key for this city\n",
      "Processing Records for hami\n",
      "Processing Records for colibasi\n",
      "Processing Records for kolokani\n",
      "Processing Records for katherine\n",
      "Processing Records for chyhyryn\n",
      "Processing Records for bagenalstown\n",
      "Missing key for this city\n",
      "Processing Records for kankon\n",
      "Processing Records for puerto cabezas\n",
      "Processing Records for chifeng\n",
      "Processing Records for bria\n",
      "Processing Records for clinton\n",
      "Processing Records for cypress lake\n",
      "Missing key for this city\n",
      "Processing Records for anito\n",
      "Processing Records for cape canaveral\n",
      "Processing Records for cabedelo\n",
      "Processing Records for leopold\n",
      "Processing Records for vicente guerrero\n",
      "Processing Records for rawatsar\n",
      "Processing Records for vila\n",
      "Processing Records for chicama\n",
      "Processing Records for pitimbu\n",
      "Processing Records for tallahassee\n",
      "Processing Records for hailey\n",
      "Processing Records for jieshi\n",
      "Processing Records for nikki\n"
     ]
    }
   ],
   "source": [
    "City_name = []\n",
    "Lat = []\n",
    "Lng = []\n",
    "Max_Temp = []\n",
    "Humidity = []\n",
    "Cloudiness = []\n",
    "Wind_Speed = []\n",
    "Country = []\n",
    "Date = []\n",
    "\n",
    "for city in cities:\n",
    "    try:\n",
    "        query_url = f\"{url}q={city}&appid={weather_api_key}\"\n",
    "        response = requests.get(query_url).json()\n",
    "        City_name.append(response['name'])\n",
    "        Lat.append(response['coord']['lat'])\n",
    "        Lng.append(response['coord']['lon'])\n",
    "        Max_Temp.append(response['main']['temp_max'])\n",
    "        Humidity.append(response['main']['humidity'])\n",
    "        Cloudiness.append(response['clouds']['all'])\n",
    "        Wind_Speed.append(response['wind']['speed'])\n",
    "        Country.append(response['sys']['country'])\n",
    "        Date.append(response['dt'])\n",
    "        print('Processing Records for '+str(city))\n",
    "    except KeyError:\n",
    "        print('Missing key for this city')"
   ]
  },
  {
   "cell_type": "code",
   "execution_count": null,
   "metadata": {},
   "outputs": [],
   "source": []
  },
  {
   "cell_type": "markdown",
   "metadata": {},
   "source": [
    "### Convert Raw Data to DataFrame\n",
    "* Export the city data into a .csv.\n",
    "* Display the DataFrame"
   ]
  },
  {
   "cell_type": "code",
   "execution_count": 5,
   "metadata": {},
   "outputs": [
    {
     "data": {
      "text/html": [
       "<div>\n",
       "<style scoped>\n",
       "    .dataframe tbody tr th:only-of-type {\n",
       "        vertical-align: middle;\n",
       "    }\n",
       "\n",
       "    .dataframe tbody tr th {\n",
       "        vertical-align: top;\n",
       "    }\n",
       "\n",
       "    .dataframe thead th {\n",
       "        text-align: right;\n",
       "    }\n",
       "</style>\n",
       "<table border=\"1\" class=\"dataframe\">\n",
       "  <thead>\n",
       "    <tr style=\"text-align: right;\">\n",
       "      <th></th>\n",
       "      <th>City</th>\n",
       "      <th>Lat</th>\n",
       "      <th>Lng</th>\n",
       "      <th>Max Temp</th>\n",
       "      <th>Humidity</th>\n",
       "      <th>Cloudiness</th>\n",
       "      <th>Wind Speed</th>\n",
       "      <th>Country</th>\n",
       "      <th>Date</th>\n",
       "    </tr>\n",
       "  </thead>\n",
       "  <tbody>\n",
       "    <tr>\n",
       "      <th>0</th>\n",
       "      <td>Ust-Tsilma</td>\n",
       "      <td>65.44</td>\n",
       "      <td>52.15</td>\n",
       "      <td>259.04</td>\n",
       "      <td>93</td>\n",
       "      <td>0</td>\n",
       "      <td>1.51</td>\n",
       "      <td>RU</td>\n",
       "      <td>1608214520</td>\n",
       "    </tr>\n",
       "    <tr>\n",
       "      <th>1</th>\n",
       "      <td>Bilma</td>\n",
       "      <td>18.69</td>\n",
       "      <td>12.92</td>\n",
       "      <td>300.97</td>\n",
       "      <td>15</td>\n",
       "      <td>0</td>\n",
       "      <td>4.05</td>\n",
       "      <td>NE</td>\n",
       "      <td>1608214520</td>\n",
       "    </tr>\n",
       "    <tr>\n",
       "      <th>2</th>\n",
       "      <td>Abu Dhabi</td>\n",
       "      <td>24.47</td>\n",
       "      <td>54.37</td>\n",
       "      <td>298.15</td>\n",
       "      <td>44</td>\n",
       "      <td>0</td>\n",
       "      <td>3.60</td>\n",
       "      <td>AE</td>\n",
       "      <td>1608214501</td>\n",
       "    </tr>\n",
       "    <tr>\n",
       "      <th>3</th>\n",
       "      <td>Beidao</td>\n",
       "      <td>34.57</td>\n",
       "      <td>105.89</td>\n",
       "      <td>266.48</td>\n",
       "      <td>76</td>\n",
       "      <td>100</td>\n",
       "      <td>0.45</td>\n",
       "      <td>CN</td>\n",
       "      <td>1608214520</td>\n",
       "    </tr>\n",
       "    <tr>\n",
       "      <th>4</th>\n",
       "      <td>Tibati</td>\n",
       "      <td>6.47</td>\n",
       "      <td>12.63</td>\n",
       "      <td>310.06</td>\n",
       "      <td>10</td>\n",
       "      <td>1</td>\n",
       "      <td>1.94</td>\n",
       "      <td>CM</td>\n",
       "      <td>1608214520</td>\n",
       "    </tr>\n",
       "  </tbody>\n",
       "</table>\n",
       "</div>"
      ],
      "text/plain": [
       "         City    Lat     Lng  Max Temp  Humidity  Cloudiness  Wind Speed  \\\n",
       "0  Ust-Tsilma  65.44   52.15    259.04        93           0        1.51   \n",
       "1       Bilma  18.69   12.92    300.97        15           0        4.05   \n",
       "2   Abu Dhabi  24.47   54.37    298.15        44           0        3.60   \n",
       "3      Beidao  34.57  105.89    266.48        76         100        0.45   \n",
       "4      Tibati   6.47   12.63    310.06        10           1        1.94   \n",
       "\n",
       "  Country        Date  \n",
       "0      RU  1608214520  \n",
       "1      NE  1608214520  \n",
       "2      AE  1608214501  \n",
       "3      CN  1608214520  \n",
       "4      CM  1608214520  "
      ]
     },
     "execution_count": 5,
     "metadata": {},
     "output_type": "execute_result"
    }
   ],
   "source": [
    "weather_dict = {\"City\": City_name,\n",
    "               \"Lat\": Lat,\n",
    "               'Lng': Lng,\n",
    "               'Max Temp': Max_Temp,\n",
    "               'Humidity': Humidity,\n",
    "               'Cloudiness': Cloudiness,\n",
    "               'Wind Speed': Wind_Speed,\n",
    "               'Country': Country,\n",
    "               'Date': Date}\n",
    "weather_data = pd.DataFrame(weather_dict)\n",
    "weather_data.head()"
   ]
  },
  {
   "cell_type": "code",
   "execution_count": null,
   "metadata": {},
   "outputs": [],
   "source": []
  },
  {
   "cell_type": "code",
   "execution_count": 6,
   "metadata": {},
   "outputs": [],
   "source": [
    "compression_opts = dict(method='zip',archive_name='out.csv')\n",
    "weather_data.to_csv('Weather.zip', index=False,compression=compression_opts)  "
   ]
  },
  {
   "cell_type": "markdown",
   "metadata": {},
   "source": [
    "## Inspect the data and remove the cities where the humidity > 100%.\n",
    "----\n",
    "Skip this step if there are no cities that have humidity > 100%. "
   ]
  },
  {
   "cell_type": "code",
   "execution_count": null,
   "metadata": {},
   "outputs": [],
   "source": []
  },
  {
   "cell_type": "code",
   "execution_count": 7,
   "metadata": {},
   "outputs": [],
   "source": [
    "#  Get the indices of cities that have humidity over 100%.\n"
   ]
  },
  {
   "cell_type": "code",
   "execution_count": 8,
   "metadata": {},
   "outputs": [],
   "source": [
    "# Make a new DataFrame equal to the city data to drop all humidity outliers by index.\n",
    "# Passing \"inplace=False\" will make a copy of the city_data DataFrame, which we call \"clean_city_data\".\n",
    "weather_dry = weather_data[weather_data.Humidity != 100]"
   ]
  },
  {
   "cell_type": "code",
   "execution_count": 9,
   "metadata": {},
   "outputs": [
    {
     "data": {
      "text/html": [
       "<div>\n",
       "<style scoped>\n",
       "    .dataframe tbody tr th:only-of-type {\n",
       "        vertical-align: middle;\n",
       "    }\n",
       "\n",
       "    .dataframe tbody tr th {\n",
       "        vertical-align: top;\n",
       "    }\n",
       "\n",
       "    .dataframe thead th {\n",
       "        text-align: right;\n",
       "    }\n",
       "</style>\n",
       "<table border=\"1\" class=\"dataframe\">\n",
       "  <thead>\n",
       "    <tr style=\"text-align: right;\">\n",
       "      <th></th>\n",
       "      <th>City</th>\n",
       "      <th>Lat</th>\n",
       "      <th>Lng</th>\n",
       "      <th>Max Temp</th>\n",
       "      <th>Humidity</th>\n",
       "      <th>Cloudiness</th>\n",
       "      <th>Wind Speed</th>\n",
       "      <th>Country</th>\n",
       "      <th>Date</th>\n",
       "    </tr>\n",
       "  </thead>\n",
       "  <tbody>\n",
       "    <tr>\n",
       "      <th>0</th>\n",
       "      <td>Ust-Tsilma</td>\n",
       "      <td>65.44</td>\n",
       "      <td>52.15</td>\n",
       "      <td>259.04</td>\n",
       "      <td>93</td>\n",
       "      <td>0</td>\n",
       "      <td>1.51</td>\n",
       "      <td>RU</td>\n",
       "      <td>1608214520</td>\n",
       "    </tr>\n",
       "    <tr>\n",
       "      <th>1</th>\n",
       "      <td>Bilma</td>\n",
       "      <td>18.69</td>\n",
       "      <td>12.92</td>\n",
       "      <td>300.97</td>\n",
       "      <td>15</td>\n",
       "      <td>0</td>\n",
       "      <td>4.05</td>\n",
       "      <td>NE</td>\n",
       "      <td>1608214520</td>\n",
       "    </tr>\n",
       "    <tr>\n",
       "      <th>2</th>\n",
       "      <td>Abu Dhabi</td>\n",
       "      <td>24.47</td>\n",
       "      <td>54.37</td>\n",
       "      <td>298.15</td>\n",
       "      <td>44</td>\n",
       "      <td>0</td>\n",
       "      <td>3.60</td>\n",
       "      <td>AE</td>\n",
       "      <td>1608214501</td>\n",
       "    </tr>\n",
       "    <tr>\n",
       "      <th>3</th>\n",
       "      <td>Beidao</td>\n",
       "      <td>34.57</td>\n",
       "      <td>105.89</td>\n",
       "      <td>266.48</td>\n",
       "      <td>76</td>\n",
       "      <td>100</td>\n",
       "      <td>0.45</td>\n",
       "      <td>CN</td>\n",
       "      <td>1608214520</td>\n",
       "    </tr>\n",
       "    <tr>\n",
       "      <th>4</th>\n",
       "      <td>Tibati</td>\n",
       "      <td>6.47</td>\n",
       "      <td>12.63</td>\n",
       "      <td>310.06</td>\n",
       "      <td>10</td>\n",
       "      <td>1</td>\n",
       "      <td>1.94</td>\n",
       "      <td>CM</td>\n",
       "      <td>1608214520</td>\n",
       "    </tr>\n",
       "    <tr>\n",
       "      <th>...</th>\n",
       "      <td>...</td>\n",
       "      <td>...</td>\n",
       "      <td>...</td>\n",
       "      <td>...</td>\n",
       "      <td>...</td>\n",
       "      <td>...</td>\n",
       "      <td>...</td>\n",
       "      <td>...</td>\n",
       "      <td>...</td>\n",
       "    </tr>\n",
       "    <tr>\n",
       "      <th>564</th>\n",
       "      <td>Chicama</td>\n",
       "      <td>-7.84</td>\n",
       "      <td>-79.15</td>\n",
       "      <td>292.15</td>\n",
       "      <td>88</td>\n",
       "      <td>44</td>\n",
       "      <td>4.10</td>\n",
       "      <td>PE</td>\n",
       "      <td>1608214582</td>\n",
       "    </tr>\n",
       "    <tr>\n",
       "      <th>565</th>\n",
       "      <td>Pitimbu</td>\n",
       "      <td>-7.47</td>\n",
       "      <td>-34.81</td>\n",
       "      <td>303.15</td>\n",
       "      <td>66</td>\n",
       "      <td>75</td>\n",
       "      <td>5.10</td>\n",
       "      <td>BR</td>\n",
       "      <td>1608214533</td>\n",
       "    </tr>\n",
       "    <tr>\n",
       "      <th>566</th>\n",
       "      <td>Tallahassee</td>\n",
       "      <td>30.44</td>\n",
       "      <td>-84.28</td>\n",
       "      <td>281.15</td>\n",
       "      <td>81</td>\n",
       "      <td>90</td>\n",
       "      <td>3.60</td>\n",
       "      <td>US</td>\n",
       "      <td>1608214450</td>\n",
       "    </tr>\n",
       "    <tr>\n",
       "      <th>568</th>\n",
       "      <td>Jieshi</td>\n",
       "      <td>22.81</td>\n",
       "      <td>115.83</td>\n",
       "      <td>287.59</td>\n",
       "      <td>71</td>\n",
       "      <td>1</td>\n",
       "      <td>0.89</td>\n",
       "      <td>CN</td>\n",
       "      <td>1608214582</td>\n",
       "    </tr>\n",
       "    <tr>\n",
       "      <th>569</th>\n",
       "      <td>Nikki</td>\n",
       "      <td>9.94</td>\n",
       "      <td>3.21</td>\n",
       "      <td>308.62</td>\n",
       "      <td>10</td>\n",
       "      <td>100</td>\n",
       "      <td>3.31</td>\n",
       "      <td>BJ</td>\n",
       "      <td>1608214583</td>\n",
       "    </tr>\n",
       "  </tbody>\n",
       "</table>\n",
       "<p>549 rows × 9 columns</p>\n",
       "</div>"
      ],
      "text/plain": [
       "            City    Lat     Lng  Max Temp  Humidity  Cloudiness  Wind Speed  \\\n",
       "0     Ust-Tsilma  65.44   52.15    259.04        93           0        1.51   \n",
       "1          Bilma  18.69   12.92    300.97        15           0        4.05   \n",
       "2      Abu Dhabi  24.47   54.37    298.15        44           0        3.60   \n",
       "3         Beidao  34.57  105.89    266.48        76         100        0.45   \n",
       "4         Tibati   6.47   12.63    310.06        10           1        1.94   \n",
       "..           ...    ...     ...       ...       ...         ...         ...   \n",
       "564      Chicama  -7.84  -79.15    292.15        88          44        4.10   \n",
       "565      Pitimbu  -7.47  -34.81    303.15        66          75        5.10   \n",
       "566  Tallahassee  30.44  -84.28    281.15        81          90        3.60   \n",
       "568       Jieshi  22.81  115.83    287.59        71           1        0.89   \n",
       "569        Nikki   9.94    3.21    308.62        10         100        3.31   \n",
       "\n",
       "    Country        Date  \n",
       "0        RU  1608214520  \n",
       "1        NE  1608214520  \n",
       "2        AE  1608214501  \n",
       "3        CN  1608214520  \n",
       "4        CM  1608214520  \n",
       "..      ...         ...  \n",
       "564      PE  1608214582  \n",
       "565      BR  1608214533  \n",
       "566      US  1608214450  \n",
       "568      CN  1608214582  \n",
       "569      BJ  1608214583  \n",
       "\n",
       "[549 rows x 9 columns]"
      ]
     },
     "execution_count": 9,
     "metadata": {},
     "output_type": "execute_result"
    }
   ],
   "source": [
    "weather_dry\n"
   ]
  },
  {
   "cell_type": "markdown",
   "metadata": {},
   "source": [
    "## Plotting the Data\n",
    "* Use proper labeling of the plots using plot titles (including date of analysis) and axes labels.\n",
    "* Save the plotted figures as .pngs."
   ]
  },
  {
   "cell_type": "markdown",
   "metadata": {},
   "source": [
    "## Latitude vs. Temperature Plot"
   ]
  },
  {
   "cell_type": "code",
   "execution_count": 33,
   "metadata": {
    "scrolled": true
   },
   "outputs": [
    {
     "data": {
      "image/png": "[encoded data removed]",
      "text/plain": [
       "<Figure size 432x288 with 1 Axes>"
      ]
     },
     "metadata": {
      "needs_background": "light"
     },
     "output_type": "display_data"
    }
   ],
   "source": [
    "plt.scatter(weather_dry['Lat'], weather_dry['Max Temp'], edgecolors='black')\n",
    "plt.xlabel('Temp (F)')\n",
    "plt.ylabel('Latitude')\n",
    "plt.title('Latitude vs Temp')\n",
    "plt.grid()"
   ]
  },
  {
   "cell_type": "markdown",
   "metadata": {},
   "source": [
    "## Latitude vs. Humidity Plot"
   ]
  },
  {
   "cell_type": "code",
   "execution_count": 34,
   "metadata": {},
   "outputs": [
    {
     "data": {
      "image/png": "[encoded data removed]",
      "text/plain": [
       "<Figure size 432x288 with 1 Axes>"
      ]
     },
     "metadata": {
      "needs_background": "light"
     },
     "output_type": "display_data"
    }
   ],
   "source": [
    "plt.scatter(weather_dry['Lat'], weather_dry['Humidity'], edgecolors='black')\n",
    "plt.xlabel('Temp (F)')\n",
    "plt.ylabel('Humidity')\n",
    "plt.title('Latitude vs Humidity')\n",
    "plt.grid()"
   ]
  },
  {
   "cell_type": "markdown",
   "metadata": {},
   "source": [
    "## Latitude vs. Cloudiness Plot"
   ]
  },
  {
   "cell_type": "code",
   "execution_count": 35,
   "metadata": {},
   "outputs": [
    {
     "data": {
      "image/png": "[encoded data removed]",
      "text/plain": [
       "<Figure size 432x288 with 1 Axes>"
      ]
     },
     "metadata": {
      "needs_background": "light"
     },
     "output_type": "display_data"
    }
   ],
   "source": [
    "plt.scatter(weather_dry['Lat'], weather_dry['Cloudiness'], edgecolors='black')\n",
    "plt.xlabel('Temp (F)')\n",
    "plt.ylabel('Cloudiness')\n",
    "plt.title('Latitude vs Cloudiness')\n",
    "plt.grid()"
   ]
  },
  {
   "cell_type": "markdown",
   "metadata": {},
   "source": [
    "## Latitude vs. Wind Speed Plot"
   ]
  },
  {
   "cell_type": "code",
   "execution_count": 36,
   "metadata": {},
   "outputs": [
    {
     "data": {
      "image/png": "[encoded data removed]",
      "text/plain": [
       "<Figure size 432x288 with 1 Axes>"
      ]
     },
     "metadata": {
      "needs_background": "light"
     },
     "output_type": "display_data"
    }
   ],
   "source": [
    "plt.scatter(weather_dry['Lat'], weather_dry['Wind Speed'], edgecolors='black')\n",
    "plt.xlabel('Temp (F)')\n",
    "plt.ylabel('Wind Speed')\n",
    "plt.title('Latitude vs Wind Speed')\n",
    "plt.grid()"
   ]
  },
  {
   "cell_type": "markdown",
   "metadata": {},
   "source": [
    "## Linear Regression"
   ]
  },
  {
   "cell_type": "code",
   "execution_count": null,
   "metadata": {},
   "outputs": [],
   "source": []
  },
  {
   "cell_type": "markdown",
   "metadata": {},
   "source": [
    "####  Northern Hemisphere - Max Temp vs. Latitude Linear Regression"
   ]
  },
  {
   "cell_type": "code",
   "execution_count": 37,
   "metadata": {},
   "outputs": [
    {
     "name": "stdout",
     "output_type": "stream",
     "text": [
      "The r-value is: 0.6461588043752089\n",
      "y = 0.28x + 303.43\n"
     ]
    },
    {
     "data": {
      "image/png": "[encoded data removed]",
      "text/plain": [
       "<Figure size 432x288 with 1 Axes>"
      ]
     },
     "metadata": {
      "needs_background": "light"
     },
     "output_type": "display_data"
    }
   ],
   "source": [
    "weather_dry_north = weather_dry[weather_dry.Lat <= 0]\n",
    "x_values = weather_dry_north['Lat']\n",
    "y_values = weather_dry_north['Max Temp']\n",
    "\n",
    "(slope, intercept, rvalue, pvalue, stderr) = linregress(x_values, y_values)\n",
    "regress_values = x_values * slope + intercept\n",
    "line_eq = \"y = \" + str(round(slope,2)) + \"x + \" + str(round(intercept,2))\n",
    "print('The r-value is: '+str(rvalue))\n",
    "print(line_eq)\n",
    "plt.scatter(x_values,y_values)\n",
    "plt.plot(x_values,regress_values,\"r-\")\n",
    "plt.annotate(line_eq,(-26,290),fontsize=10,color=\"red\")\n",
    "plt.xlabel('Temp (F)')\n",
    "plt.ylabel('Latitude')\n",
    "plt.show()\n"
   ]
  },
  {
   "cell_type": "markdown",
   "metadata": {},
   "source": [
    "####  Southern Hemisphere - Max Temp vs. Latitude Linear Regression"
   ]
  },
  {
   "cell_type": "code",
   "execution_count": 38,
   "metadata": {},
   "outputs": [
    {
     "name": "stdout",
     "output_type": "stream",
     "text": [
      "The r-value is: -0.8374838977812656\n",
      "y = -0.74x + 306.86\n"
     ]
    },
    {
     "data": {
      "image/png": "[encoded data removed]",
      "text/plain": [
       "<Figure size 432x288 with 1 Axes>"
      ]
     },
     "metadata": {
      "needs_background": "light"
     },
     "output_type": "display_data"
    }
   ],
   "source": [
    "weather_dry_south = weather_dry[weather_dry.Lat >= 0]\n",
    "x_values = weather_dry_south['Lat']\n",
    "y_values = weather_dry_south['Max Temp']\n",
    "\n",
    "(slope, intercept, rvalue, pvalue, stderr) = linregress(x_values, y_values)\n",
    "regress_values = x_values * slope + intercept\n",
    "line_eq = \"y = \" + str(round(slope,2)) + \"x + \" + str(round(intercept,2))\n",
    "print('The r-value is: '+str(rvalue))\n",
    "print(line_eq)\n",
    "plt.scatter(x_values,y_values)\n",
    "plt.plot(x_values,regress_values,\"r-\")\n",
    "plt.annotate(line_eq,(30,250),fontsize=15,color=\"red\")\n",
    "plt.xlabel('Temp (F)')\n",
    "plt.ylabel('Latitude')\n",
    "plt.show()"
   ]
  },
  {
   "cell_type": "markdown",
   "metadata": {},
   "source": [
    "####  Northern Hemisphere - Humidity (%) vs. Latitude Linear Regression"
   ]
  },
  {
   "cell_type": "code",
   "execution_count": 39,
   "metadata": {},
   "outputs": [
    {
     "name": "stdout",
     "output_type": "stream",
     "text": [
      "The r-value is: 0.09568210650881784\n",
      "y = 0.12x + 73.42\n"
     ]
    },
    {
     "data": {
      "image/png": "[encoded data removed]",
      "text/plain": [
       "<Figure size 432x288 with 1 Axes>"
      ]
     },
     "metadata": {
      "needs_background": "light"
     },
     "output_type": "display_data"
    }
   ],
   "source": [
    "weather_dry_north = weather_dry[weather_dry.Lat <= 0]\n",
    "x_values = weather_dry_north['Lat']\n",
    "y_values = weather_dry_north['Humidity']\n",
    "\n",
    "(slope, intercept, rvalue, pvalue, stderr) = linregress(x_values, y_values)\n",
    "regress_values = x_values * slope + intercept\n",
    "line_eq = \"y = \" + str(round(slope,2)) + \"x + \" + str(round(intercept,2))\n",
    "print('The r-value is: '+str(rvalue))\n",
    "print(line_eq)\n",
    "plt.scatter(x_values,y_values)\n",
    "plt.plot(x_values,regress_values,\"r-\")\n",
    "plt.annotate(line_eq,(-26,50),fontsize=10,color=\"red\")\n",
    "plt.xlabel('Temp (F)')\n",
    "plt.ylabel('Humidity')\n",
    "plt.show()\n"
   ]
  },
  {
   "cell_type": "markdown",
   "metadata": {},
   "source": [
    "####  Southern Hemisphere - Humidity (%) vs. Latitude Linear Regression"
   ]
  },
  {
   "cell_type": "code",
   "execution_count": 40,
   "metadata": {},
   "outputs": [
    {
     "name": "stdout",
     "output_type": "stream",
     "text": [
      "The r-value is: 0.3767870607835737\n",
      "y = 0.37x + 58.9\n"
     ]
    },
    {
     "data": {
      "image/png": "[encoded data removed]",
      "text/plain": [
       "<Figure size 432x288 with 1 Axes>"
      ]
     },
     "metadata": {
      "needs_background": "light"
     },
     "output_type": "display_data"
    }
   ],
   "source": [
    "weather_dry_south = weather_dry[weather_dry.Lat >= 0]\n",
    "x_values = weather_dry_south['Lat']\n",
    "y_values = weather_dry_south['Humidity']\n",
    "\n",
    "(slope, intercept, rvalue, pvalue, stderr) = linregress(x_values, y_values)\n",
    "regress_values = x_values * slope + intercept\n",
    "line_eq = \"y = \" + str(round(slope,2)) + \"x + \" + str(round(intercept,2))\n",
    "print('The r-value is: '+str(rvalue))\n",
    "print(line_eq)\n",
    "plt.scatter(x_values,y_values)\n",
    "plt.plot(x_values,regress_values,\"r-\")\n",
    "plt.annotate(line_eq,(25,40),fontsize=15,color=\"red\")\n",
    "plt.xlabel('Temp (F)')\n",
    "plt.ylabel('Humidity')\n",
    "plt.show()"
   ]
  },
  {
   "cell_type": "markdown",
   "metadata": {},
   "source": [
    "####  Northern Hemisphere - Cloudiness (%) vs. Latitude Linear Regression"
   ]
  },
  {
   "cell_type": "code",
   "execution_count": 41,
   "metadata": {},
   "outputs": [
    {
     "name": "stdout",
     "output_type": "stream",
     "text": [
      "The r-value is: 0.293775008374438\n",
      "y = 0.84x + 75.47\n"
     ]
    },
    {
     "data": {
      "image/png": "[encoded data removed]",
      "text/plain": [
       "<Figure size 432x288 with 1 Axes>"
      ]
     },
     "metadata": {
      "needs_background": "light"
     },
     "output_type": "display_data"
    }
   ],
   "source": [
    "weather_dry_north = weather_dry[weather_dry.Lat <= 0]\n",
    "x_values = weather_dry_north['Lat']\n",
    "y_values = weather_dry_north['Cloudiness']\n",
    "\n",
    "(slope, intercept, rvalue, pvalue, stderr) = linregress(x_values, y_values)\n",
    "regress_values = x_values * slope + intercept\n",
    "line_eq = \"y = \" + str(round(slope,2)) + \"x + \" + str(round(intercept,2))\n",
    "print('The r-value is: '+str(rvalue))\n",
    "print(line_eq)\n",
    "plt.scatter(x_values,y_values)\n",
    "plt.plot(x_values,regress_values,\"r-\")\n",
    "plt.annotate(line_eq,(-25,30),fontsize=10,color=\"red\")\n",
    "plt.xlabel('Temp (F)')\n",
    "plt.ylabel('Cloudiness')\n",
    "plt.show()\n"
   ]
  },
  {
   "cell_type": "markdown",
   "metadata": {},
   "source": [
    "####  Southern Hemisphere - Cloudiness (%) vs. Latitude Linear Regression"
   ]
  },
  {
   "cell_type": "code",
   "execution_count": 42,
   "metadata": {},
   "outputs": [
    {
     "name": "stdout",
     "output_type": "stream",
     "text": [
      "The r-value is: 0.11850955334971094\n",
      "y = 0.23x + 45.07\n"
     ]
    },
    {
     "data": {
      "image/png": "[encoded data removed]",
      "text/plain": [
       "<Figure size 432x288 with 1 Axes>"
      ]
     },
     "metadata": {
      "needs_background": "light"
     },
     "output_type": "display_data"
    }
   ],
   "source": [
    "weather_dry_south = weather_dry[weather_dry.Lat >= 0]\n",
    "x_values = weather_dry_south['Lat']\n",
    "y_values = weather_dry_south['Cloudiness']\n",
    "\n",
    "(slope, intercept, rvalue, pvalue, stderr) = linregress(x_values, y_values)\n",
    "regress_values = x_values * slope + intercept\n",
    "line_eq = \"y = \" + str(round(slope,2)) + \"x + \" + str(round(intercept,2))\n",
    "print('The r-value is: '+str(rvalue))\n",
    "print(line_eq)\n",
    "plt.scatter(x_values,y_values)\n",
    "plt.plot(x_values,regress_values,\"r-\")\n",
    "plt.annotate(line_eq,(6,10),fontsize=15,color=\"red\")\n",
    "plt.xlabel('Temp (F)')\n",
    "plt.ylabel('Cloudiness')\n",
    "plt.show()"
   ]
  },
  {
   "cell_type": "markdown",
   "metadata": {},
   "source": [
    "####  Northern Hemisphere - Wind Speed (mph) vs. Latitude Linear Regression"
   ]
  },
  {
   "cell_type": "code",
   "execution_count": 43,
   "metadata": {},
   "outputs": [
    {
     "name": "stdout",
     "output_type": "stream",
     "text": [
      "The r-value is: -0.21239334903457407\n",
      "y = -0.04x + 3.29\n"
     ]
    },
    {
     "data": {
      "image/png": "[encoded data removed]",
      "text/plain": [
       "<Figure size 432x288 with 1 Axes>"
      ]
     },
     "metadata": {
      "needs_background": "light"
     },
     "output_type": "display_data"
    }
   ],
   "source": [
    "weather_dry_north = weather_dry[weather_dry.Lat <= 0]\n",
    "x_values = weather_dry_north['Lat']\n",
    "y_values = weather_dry_north['Wind Speed']\n",
    "\n",
    "(slope, intercept, rvalue, pvalue, stderr) = linregress(x_values, y_values)\n",
    "regress_values = x_values * slope + intercept\n",
    "line_eq = \"y = \" + str(round(slope,2)) + \"x + \" + str(round(intercept,2))\n",
    "print('The r-value is: '+str(rvalue))\n",
    "print(line_eq)\n",
    "plt.scatter(x_values,y_values)\n",
    "plt.plot(x_values,regress_values,\"r-\")\n",
    "plt.annotate(line_eq,(-20,10),fontsize=10,color=\"red\")\n",
    "plt.xlabel('Temp (F)')\n",
    "plt.ylabel('Wind Speed')\n",
    "plt.show()\n"
   ]
  },
  {
   "cell_type": "markdown",
   "metadata": {},
   "source": [
    "####  Southern Hemisphere - Wind Speed (mph) vs. Latitude Linear Regression"
   ]
  },
  {
   "cell_type": "code",
   "execution_count": 45,
   "metadata": {},
   "outputs": [
    {
     "name": "stdout",
     "output_type": "stream",
     "text": [
      "The r-value is: 0.09393171761853648\n",
      "y = 0.01x + 3.18\n"
     ]
    },
    {
     "data": {
      "image/png": "[encoded data removed]",
      "text/plain": [
       "<Figure size 432x288 with 1 Axes>"
      ]
     },
     "metadata": {
      "needs_background": "light"
     },
     "output_type": "display_data"
    }
   ],
   "source": [
    "weather_dry_south = weather_dry[weather_dry.Lat >= 0]\n",
    "x_values = weather_dry_south['Lat']\n",
    "y_values = weather_dry_south['Wind Speed']\n",
    "\n",
    "(slope, intercept, rvalue, pvalue, stderr) = linregress(x_values, y_values)\n",
    "regress_values = x_values * slope + intercept\n",
    "line_eq = \"y = \" + str(round(slope,2)) + \"x + \" + str(round(intercept,2))\n",
    "print('The r-value is: '+str(rvalue))\n",
    "print(line_eq)\n",
    "plt.scatter(x_values,y_values)\n",
    "plt.plot(x_values,regress_values,\"r-\")\n",
    "plt.annotate(line_eq,(6,10),fontsize=15,color=\"red\")\n",
    "plt.xlabel('Temp (F)')\n",
    "plt.ylabel('Wind Speed')\n",
    "plt.show()"
   ]
  },
  {
   "cell_type": "code",
   "execution_count": null,
   "metadata": {},
   "outputs": [],
   "source": []
  },
  {
   "cell_type": "code",
   "execution_count": null,
   "metadata": {},
   "outputs": [],
   "source": []
  }
 ],
 "metadata": {
  "anaconda-cloud": {},
  "kernel_info": {
   "name": "python3"
  },
  "kernelspec": {
   "display_name": "Python 3",
   "language": "python",
   "name": "python3"
  },
  "language_info": {
   "codemirror_mode": {
    "name": "ipython",
    "version": 3
   },
   "file_extension": ".py",
   "mimetype": "text/x-python",
   "name": "python",
   "nbconvert_exporter": "python",
   "pygments_lexer": "ipython3",
   "version": "3.8.3"
  },
  "latex_envs": {
   "LaTeX_envs_menu_present": true,
   "autoclose": false,
   "autocomplete": true,
   "bibliofile": "biblio.bib",
   "cite_by": "apalike",
   "current_citInitial": 1,
   "eqLabelWithNumbers": true,
   "eqNumInitial": 1,
   "hotkeys": {
    "equation": "Ctrl-E",
    "itemize": "Ctrl-I"
   },
   "labels_anchors": false,
   "latex_user_defs": false,
   "report_style_numbering": false,
   "user_envs_cfg": false
  },
  "nteract": {
   "version": "0.12.3"
  }
 },
 "nbformat": 4,
 "nbformat_minor": 2
}
